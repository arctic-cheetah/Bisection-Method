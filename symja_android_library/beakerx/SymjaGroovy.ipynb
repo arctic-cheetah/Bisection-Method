{
 "cells": [
  {
   "cell_type": "markdown",
   "metadata": {},
   "source": [
    "Download the [latest Symja release](https://github.com/axkr/symja_android_library/releases) and add the local classpath where the downloaded libs were saved:"
   ]
  },
  {
   "cell_type": "code",
   "execution_count": 1,
   "metadata": {},
   "outputs": [
    {
     "data": {
      "application/vnd.jupyter.widget-view+json": {
       "model_id": "68b1dda8-3c4f-491b-b6cd-cbe588abf0b9",
       "version_major": 2,
       "version_minor": 0
      },
      "method": "display_data"
     },
     "metadata": {},
     "output_type": "display_data"
    }
   ],
   "source": [
    "%classpath add jar C:\\temp\\symja_java8-2018-11-30\\lib\\*"
   ]
  },
  {
   "cell_type": "markdown",
   "metadata": {},
   "source": [
    "Use %import magic to load some additional imports for all cells"
   ]
  },
  {
   "cell_type": "code",
   "execution_count": 2,
   "metadata": {},
   "outputs": [],
   "source": [
    "%import org.matheclipse.core.expression.*\n",
    "%import org.matheclipse.core.eval.*\n",
    "%import org.matheclipse.core.interfaces.*\n",
    "%import static org.matheclipse.core.expression.F.*"
   ]
  },
  {
   "cell_type": "markdown",
   "metadata": {},
   "source": [
    "Let's start with a simple expression:"
   ]
  },
  {
   "cell_type": "code",
   "execution_count": 3,
   "metadata": {},
   "outputs": [
    {
     "data": {
      "text/plain": [
       "2"
      ]
     },
     "execution_count": 3,
     "metadata": {},
     "output_type": "execute_result"
    }
   ],
   "source": [
    "eval(\"1+1\")"
   ]
  },
  {
   "cell_type": "markdown",
   "metadata": {},
   "source": [
    "A partial derivative of `Sin(x)` with respect to `x`. `x` is predefined as a Symja symbol in the `org.matheclipse.core.expression.F` class"
   ]
  },
  {
   "cell_type": "code",
   "execution_count": 4,
   "metadata": {},
   "outputs": [
    {
     "data": {
      "text/plain": [
       "Cos(x)"
      ]
     },
     "execution_count": 4,
     "metadata": {},
     "output_type": "execute_result"
    }
   ],
   "source": [
    "D.of(Sin(x),x)"
   ]
  },
  {
   "cell_type": "markdown",
   "metadata": {},
   "source": [
    "Integration of `Sin(x)*Cos()`:"
   ]
  },
  {
   "cell_type": "code",
   "execution_count": 5,
   "metadata": {},
   "outputs": [
    {
     "data": {
      "text/plain": [
       "Sin(x)^2/2"
      ]
     },
     "execution_count": 5,
     "metadata": {},
     "output_type": "execute_result"
    }
   ],
   "source": [
    "Integrate.of(Times(Sin(x),Cos(x)),x)"
   ]
  },
  {
   "cell_type": "markdown",
   "metadata": {},
   "source": [
    "Determine the factors of the integr `324` (use `ZZ` to define integers, `QQ` to define rational numbers, and `CC` to define exact complex numbers):"
   ]
  },
  {
   "cell_type": "code",
   "execution_count": 6,
   "metadata": {},
   "outputs": [
    {
     "data": {
      "text/plain": [
       "{{2,2},{3,4}}"
      ]
     },
     "execution_count": 6,
     "metadata": {},
     "output_type": "execute_result"
    }
   ],
   "source": [
    "FactorInteger.of(ZZ(324))"
   ]
  },
  {
   "cell_type": "markdown",
   "metadata": {},
   "source": [
    "Print the `HornerForm` of the expression `(x+y)^3`:"
   ]
  },
  {
   "cell_type": "code",
   "execution_count": 7,
   "metadata": {},
   "outputs": [
    {
     "data": {
      "text/plain": [
       "x*(x*(x+3*y)+3*y^2)+y^3"
      ]
     },
     "execution_count": 7,
     "metadata": {},
     "output_type": "execute_result"
    }
   ],
   "source": [
    "HornerForm.of(Expand(Power(Plus(x,y),C3)))"
   ]
  },
  {
   "cell_type": "code",
   "execution_count": null,
   "metadata": {},
   "outputs": [],
   "source": [
    "Print the `TeXForm` of the expression `Sum( f(n), {n, 1, m})`:"
   ]
  },
  {
   "cell_type": "code",
   "execution_count": 8,
   "metadata": {},
   "outputs": [
    {
     "data": {
      "text/plain": [
       "\\sum_{n = 1}^{m} {f(n)}"
      ]
     },
     "execution_count": 8,
     "metadata": {},
     "output_type": "execute_result"
    }
   ],
   "source": [
    "TeXForm.of(Sum(unary(f,n),List(n,C1,m)))"
   ]
  },
  {
   "cell_type": "markdown",
   "metadata": {},
   "source": [
    "Print the internal rules used for the `ArcTan` function"
   ]
  },
  {
   "cell_type": "code",
   "execution_count": 9,
   "metadata": {},
   "outputs": [
    {
     "data": {
      "text/plain": [
       "Attributes(ArcTan)={Listable,NumericFunction}\n",
       "ArcTan(1/Sqrt(3))=Pi/6\n",
       "ArcTan(1,1)=Pi/4\n",
       "ArcTan(2+Sqrt(3))=5/12*Pi\n",
       "ArcTan(-1,-1)=-3/4*Pi\n",
       "ArcTan(Infinity)=Pi/2\n",
       "ArcTan(I*Infinity)=Pi/2\n",
       "ArcTan(2-Sqrt(3))=Pi/12\n",
       "ArcTan(1+Sqrt(2))=3/8*Pi\n",
       "ArcTan(0,0)=Indeterminate\n",
       "ArcTan(Sqrt(3))=Pi/3\n",
       "ArcTan(-Infinity)=-Pi/2\n",
       "ArcTan(-I*Infinity)=-Pi/2\n",
       "ArcTan(-1+Sqrt(2))=Pi/8\n",
       "ArcTan(Sqrt(5-2*Sqrt(5)))=Pi/5\n",
       "ArcTan(0)=0\n",
       "ArcTan(1)=Pi/4\n",
       "ArcTan(I)=I*Infinity\n",
       "ArcTan(Infinity,y_)=0\n",
       "ArcTan(x_,y_):=(Pi*(-x+2*Sqrt(x^2)))/(4*y)/;x^2==y^2\n",
       "ArcTan(x_?RealNumberQ,y_?RealNumberQ):=If(x==0,If(y==0,Indeterminate,If(y>0,Pi/2,(-1)*1/2*Pi)),If(x>0,ArcTan(y/x),If(y>=0,Pi+ArcTan(y/x),-Pi+ArcTan(y/x))))"
      ]
     },
     "execution_count": 9,
     "metadata": {},
     "output_type": "execute_result"
    }
   ],
   "source": [
    "Definition.of(ArcTan)"
   ]
  },
  {
   "cell_type": "markdown",
   "metadata": {},
   "source": [
    "Evaluate `ArcTan(1,1)`"
   ]
  },
  {
   "cell_type": "code",
   "execution_count": 10,
   "metadata": {},
   "outputs": [
    {
     "data": {
      "text/plain": [
       "Pi/4"
      ]
     },
     "execution_count": 10,
     "metadata": {},
     "output_type": "execute_result"
    }
   ],
   "source": [
    "ArcTan.of(C1,C1)"
   ]
  },
  {
   "cell_type": "markdown",
   "metadata": {},
   "source": [
    "Print the documentation for the `Im` function"
   ]
  },
  {
   "cell_type": "code",
   "execution_count": 19,
   "metadata": {},
   "outputs": [
    {
     "data": {
      "text/plain": [
       "\n",
       "## Im\n",
       "\n",
       "Im(z)\n",
       "> returns the imaginary component of the complex number `z`.\n",
       " \n",
       "### Examples\n",
       ">> Im(3+4I)\n",
       "4\n",
       "\n",
       ">> Im(0.5 + 2.3*I)\n",
       "2.3\n"
      ]
     },
     "execution_count": 19,
     "metadata": {},
     "output_type": "execute_result"
    }
   ],
   "source": [
    "usage(Im)  "
   ]
  },
  {
   "cell_type": "markdown",
   "metadata": {},
   "source": [
    "Evaluate this expression from the Java string input:"
   ]
  },
  {
   "cell_type": "code",
   "execution_count": 21,
   "metadata": {},
   "outputs": [
    {
     "data": {
      "text/plain": [
       "Cos(x)"
      ]
     },
     "execution_count": 21,
     "metadata": {},
     "output_type": "execute_result"
    }
   ],
   "source": [
    "eval(\"D(Sin(x),x)\")"
   ]
  },
  {
   "cell_type": "code",
   "execution_count": 1,
   "metadata": {},
   "outputs": [
    {
     "data": {
      "text/plain": [
       "2"
      ]
     },
     "execution_count": 1,
     "metadata": {},
     "output_type": "execute_result"
    }
   ],
   "source": [
    "1+1"
   ]
  },
  {
   "cell_type": "markdown",
   "metadata": {},
   "source": []
  }
 ],
 "metadata": {
  "kernelspec": {
   "display_name": "Groovy",
   "language": "groovy",
   "name": "groovy"
  },
  "language_info": {
   "codemirror_mode": "groovy",
   "file_extension": ".groovy",
   "mimetype": "",
   "name": "Groovy",
   "nbconverter_exporter": "",
   "version": "2.4.3"
  },
  "toc": {
   "base_numbering": 1,
   "nav_menu": {},
   "number_sections": false,
   "sideBar": false,
   "skip_h1_title": false,
   "title_cell": "Table of Contents",
   "title_sidebar": "Contents",
   "toc_cell": false,
   "toc_position": {},
   "toc_section_display": false,
   "toc_window_display": false
  }
 },
 "nbformat": 4,
 "nbformat_minor": 2
}
